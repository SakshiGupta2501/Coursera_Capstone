{
  "nbformat": 4,
  "nbformat_minor": 0,
  "metadata": {
    "kernelspec": {
      "display_name": "Python 3",
      "language": "python",
      "name": "python3"
    },
    "language_info": {
      "codemirror_mode": {
        "name": "ipython",
        "version": 3
      },
      "file_extension": ".py",
      "mimetype": "text/x-python",
      "name": "python",
      "nbconvert_exporter": "python",
      "pygments_lexer": "ipython3",
      "version": "3.6.6"
    },
    "colab": {
      "name": "Part 1-Preprocessing.ipynb",
      "version": "0.3.2",
      "provenance": []
    }
  },
  "cells": [
    {
      "cell_type": "markdown",
      "metadata": {
        "id": "wVFXvm2ZV_Sj",
        "colab_type": "text"
      },
      "source": [
        "# Peer-graded Assignment: Segmenting and Clustering Neighborhoods in Toronto"
      ]
    },
    {
      "cell_type": "code",
      "metadata": {
        "id": "y_263bjqV_S4",
        "colab_type": "code",
        "colab": {}
      },
      "source": [
        "import pandas as pd\n",
        "import numpy as np\n",
        "from bs4 import BeautifulSoup\n",
        "import requests"
      ],
      "execution_count": 0,
      "outputs": []
    },
    {
      "cell_type": "code",
      "metadata": {
        "id": "VI99dLGsV_TE",
        "colab_type": "code",
        "colab": {}
      },
      "source": [
        "wikipedia_link='https://en.wikipedia.org/wiki/List_of_postal_codes_of_Canada:_M'\n",
        "raw_wikipedia_page= requests.get(wikipedia_link).text\n",
        "\n",
        "soup = BeautifulSoup(raw_wikipedia_page,'xml')"
      ],
      "execution_count": 0,
      "outputs": []
    },
    {
      "cell_type": "code",
      "metadata": {
        "id": "joYzFPkVV_TR",
        "colab_type": "code",
        "colab": {}
      },
      "source": [
        "table = soup.find('table')\n",
        "\n",
        "Postcode      = []\n",
        "Borough       = []\n",
        "Neighbourhood = []\n",
        "\n",
        "for tr_cell in table.find_all('tr'):\n",
        "    \n",
        "    counter = 1\n",
        "    Postcode_var      = -1\n",
        "    Borough_var       = -1\n",
        "    Neighbourhood_var = -1\n",
        "    \n",
        "    for td_cell in tr_cell.find_all('td'):\n",
        "        if counter == 1: \n",
        "            Postcode_var = td_cell.text\n",
        "        if counter == 2: \n",
        "            Borough_var = td_cell.text\n",
        "            tag_a_Borough = td_cell.find('a')\n",
        "            \n",
        "        if counter == 3: \n",
        "            Neighbourhood_var = str(td_cell.text).strip()\n",
        "            tag_a_Neighbourhood = td_cell.find('a')\n",
        "            \n",
        "        counter +=1\n",
        "        \n",
        "    if (Postcode_var == 'Not assigned' or Borough_var == 'Not assigned' or Neighbourhood_var == 'Not assigned'): \n",
        "        continue\n",
        "    try:\n",
        "        if ((tag_a_Borough is None) or (tag_a_Neighbourhood is None)):\n",
        "            continue\n",
        "    except:\n",
        "        pass\n",
        "    if(Postcode_var == -1 or Borough_var == -1 or Neighbourhood_var == -1):\n",
        "        continue\n",
        "        \n",
        "    Postcode.append(Postcode_var)\n",
        "    Borough.append(Borough_var)\n",
        "    Neighbourhood.append(Neighbourhood_var)\n",
        "    "
      ],
      "execution_count": 0,
      "outputs": []
    },
    {
      "cell_type": "code",
      "metadata": {
        "id": "-5p3CdLFV_Ta",
        "colab_type": "code",
        "colab": {
          "base_uri": "https://localhost:8080/",
          "height": 34
        },
        "outputId": "3f5fe4b6-ce7c-46b0-bc31-e3d3879f3f67"
      },
      "source": [
        "\n",
        "unique_p = set(Postcode)\n",
        "print('num of unique Postal codes:', len(unique_p))\n",
        "Postcode_u      = []\n",
        "Borough_u       = []\n",
        "Neighbourhood_u = []\n",
        "\n",
        "\n",
        "for postcode_unique_element in unique_p:\n",
        "    p_var = ''; b_var = ''; n_var = ''; \n",
        "    for postcode_idx, postcode_element in enumerate(Postcode):\n",
        "        if postcode_unique_element == postcode_element:\n",
        "            p_var = postcode_element;\n",
        "            b_var = Borough[postcode_idx]\n",
        "            if n_var == '': \n",
        "                n_var = Neighbourhood[postcode_idx]\n",
        "            else:\n",
        "                n_var = n_var + ', ' + Neighbourhood[postcode_idx]\n",
        "    Postcode_u.append(p_var)\n",
        "    Borough_u.append(b_var)\n",
        "    Neighbourhood_u.append(n_var)\n",
        "\n",
        "    "
      ],
      "execution_count": 4,
      "outputs": [
        {
          "output_type": "stream",
          "text": [
            "num of unique Postal codes: 77\n"
          ],
          "name": "stdout"
        }
      ]
    },
    {
      "cell_type": "code",
      "metadata": {
        "id": "3LeTCJV1V_Tn",
        "colab_type": "code",
        "colab": {
          "base_uri": "https://localhost:8080/",
          "height": 489
        },
        "outputId": "1bee6475-4b22-47c6-ac81-98c088c533ba"
      },
      "source": [
        "toronto_dict = {'Postcode':Postcode_u, 'Borough':Borough_u, 'Neighbourhood':Neighbourhood_u}\n",
        "df_toronto = pd.DataFrame.from_dict(toronto_dict)\n",
        "df_toronto.to_csv('toronto_part1.csv')\n",
        "df_toronto.head(14)"
      ],
      "execution_count": 5,
      "outputs": [
        {
          "output_type": "execute_result",
          "data": {
            "text/html": [
              "<div>\n",
              "<style scoped>\n",
              "    .dataframe tbody tr th:only-of-type {\n",
              "        vertical-align: middle;\n",
              "    }\n",
              "\n",
              "    .dataframe tbody tr th {\n",
              "        vertical-align: top;\n",
              "    }\n",
              "\n",
              "    .dataframe thead th {\n",
              "        text-align: right;\n",
              "    }\n",
              "</style>\n",
              "<table border=\"1\" class=\"dataframe\">\n",
              "  <thead>\n",
              "    <tr style=\"text-align: right;\">\n",
              "      <th></th>\n",
              "      <th>Postcode</th>\n",
              "      <th>Borough</th>\n",
              "      <th>Neighbourhood</th>\n",
              "    </tr>\n",
              "  </thead>\n",
              "  <tbody>\n",
              "    <tr>\n",
              "      <th>0</th>\n",
              "      <td>M1B</td>\n",
              "      <td>Scarborough</td>\n",
              "      <td>Rouge, Malvern</td>\n",
              "    </tr>\n",
              "    <tr>\n",
              "      <th>1</th>\n",
              "      <td>M5J</td>\n",
              "      <td>Downtown Toronto</td>\n",
              "      <td>Toronto Islands, Union Station</td>\n",
              "    </tr>\n",
              "    <tr>\n",
              "      <th>2</th>\n",
              "      <td>M6L</td>\n",
              "      <td>North York</td>\n",
              "      <td>Downsview</td>\n",
              "    </tr>\n",
              "    <tr>\n",
              "      <th>3</th>\n",
              "      <td>M2J</td>\n",
              "      <td>North York</td>\n",
              "      <td>Henry Farm</td>\n",
              "    </tr>\n",
              "    <tr>\n",
              "      <th>4</th>\n",
              "      <td>M4K</td>\n",
              "      <td>East Toronto</td>\n",
              "      <td>Riverdale</td>\n",
              "    </tr>\n",
              "    <tr>\n",
              "      <th>5</th>\n",
              "      <td>M5M</td>\n",
              "      <td>North York</td>\n",
              "      <td>Bedford Park</td>\n",
              "    </tr>\n",
              "    <tr>\n",
              "      <th>6</th>\n",
              "      <td>M8Z</td>\n",
              "      <td>Etobicoke</td>\n",
              "      <td>Mimico NW, The Queensway West</td>\n",
              "    </tr>\n",
              "    <tr>\n",
              "      <th>7</th>\n",
              "      <td>M4B</td>\n",
              "      <td>East York</td>\n",
              "      <td>Woodbine Gardens, Parkview Hill</td>\n",
              "    </tr>\n",
              "    <tr>\n",
              "      <th>8</th>\n",
              "      <td>M6J</td>\n",
              "      <td>West Toronto</td>\n",
              "      <td>Little Portugal, Trinity</td>\n",
              "    </tr>\n",
              "    <tr>\n",
              "      <th>9</th>\n",
              "      <td>M5A</td>\n",
              "      <td>Downtown Toronto</td>\n",
              "      <td>Harbourfront, Regent Park</td>\n",
              "    </tr>\n",
              "    <tr>\n",
              "      <th>10</th>\n",
              "      <td>M1C</td>\n",
              "      <td>Scarborough</td>\n",
              "      <td>Highland Creek, Rouge Hill, Port Union</td>\n",
              "    </tr>\n",
              "    <tr>\n",
              "      <th>11</th>\n",
              "      <td>M5L</td>\n",
              "      <td>Downtown Toronto</td>\n",
              "      <td>Commerce Court</td>\n",
              "    </tr>\n",
              "    <tr>\n",
              "      <th>12</th>\n",
              "      <td>M9C</td>\n",
              "      <td>Etobicoke</td>\n",
              "      <td>Markland Wood</td>\n",
              "    </tr>\n",
              "    <tr>\n",
              "      <th>13</th>\n",
              "      <td>M1T</td>\n",
              "      <td>Scarborough</td>\n",
              "      <td>Tam O'Shanter</td>\n",
              "    </tr>\n",
              "  </tbody>\n",
              "</table>\n",
              "</div>"
            ],
            "text/plain": [
              "   Postcode           Borough                           Neighbourhood\n",
              "0       M1B       Scarborough                          Rouge, Malvern\n",
              "1       M5J  Downtown Toronto          Toronto Islands, Union Station\n",
              "2       M6L        North York                               Downsview\n",
              "3       M2J        North York                              Henry Farm\n",
              "4       M4K      East Toronto                               Riverdale\n",
              "5       M5M        North York                            Bedford Park\n",
              "6       M8Z         Etobicoke           Mimico NW, The Queensway West\n",
              "7       M4B         East York         Woodbine Gardens, Parkview Hill\n",
              "8       M6J      West Toronto                Little Portugal, Trinity\n",
              "9       M5A  Downtown Toronto               Harbourfront, Regent Park\n",
              "10      M1C       Scarborough  Highland Creek, Rouge Hill, Port Union\n",
              "11      M5L  Downtown Toronto                          Commerce Court\n",
              "12      M9C         Etobicoke                           Markland Wood\n",
              "13      M1T       Scarborough                           Tam O'Shanter"
            ]
          },
          "metadata": {
            "tags": []
          },
          "execution_count": 5
        }
      ]
    },
    {
      "cell_type": "code",
      "metadata": {
        "id": "rOIivVXAV_Tv",
        "colab_type": "code",
        "colab": {
          "base_uri": "https://localhost:8080/",
          "height": 34
        },
        "outputId": "0326fd23-5ebc-4c16-e07d-09db7fe333d1"
      },
      "source": [
        "df_toronto.shape"
      ],
      "execution_count": 6,
      "outputs": [
        {
          "output_type": "execute_result",
          "data": {
            "text/plain": [
              "(77, 3)"
            ]
          },
          "metadata": {
            "tags": []
          },
          "execution_count": 6
        }
      ]
    },
    {
      "cell_type": "code",
      "metadata": {
        "id": "fAyjjGlqZAMA",
        "colab_type": "code",
        "colab": {}
      },
      "source": [
        ""
      ],
      "execution_count": 0,
      "outputs": []
    }
  ]
}